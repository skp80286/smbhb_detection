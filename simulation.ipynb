{
 "cells": [
  {
   "cell_type": "code",
   "execution_count": 69,
   "metadata": {},
   "outputs": [],
   "source": [
    "def generate_drw(baseline, t):\n",
    "    num_samples = len(t)\n",
    "    tau = np.random.uniform(baseline/1000, baseline*15)\n",
    "    print(\"DRW tau=\" + str(tau))\n",
    "    log_a = -1.6  # Lower bound (log scale)\n",
    "    log_b = -0.25  # Upper bound (log scale)\n",
    "    log_sigma = np.random.uniform(log_a, log_b, size=1)\n",
    "    # Generate random values from the log-uniform distribution\n",
    "    sigma = np.exp(log_sigma)\n",
    "    print(\"DRW sigma=\" + str(sigma))\n",
    "    \n",
    "    # Generate the PSD for the DRW\n",
    "    frequencies = np.fft.fftfreq(len(t), baseline/num_samples)\n",
    "    # print(\"Frequencies=\" + str(frequencies))\n",
    "    fft_numerator = 4*tau \n",
    "    fft_denominator = 1 + (2 * np.pi * frequencies * tau) ** 2\n",
    "    psd = sigma ** 2 * fft_numerator / fft_denominator\n",
    "\n",
    "    # DRW in Frequency domain\n",
    "    noise = np.random.randn(len(t)) / np.sqrt(len(t))\n",
    "    fft_drw = np.sqrt(psd) * noise\n",
    "    # print(\"len=\" + str(len(t)) + \" sqrt=\" + str(np.sqrt(len(t))) + \" noise=\" + str(noise))\n",
    "    # print(\"psd=\" + str(psd))\n",
    "    # print(\"psd_with_noise=\" + str(fft_drw))\n",
    "\n",
    "    # Convert back to time domain and take the magnitude of the complex numbers\n",
    "    drw = np.abs(np.fft.ifft(fft_drw) * len(t))\n",
    "    #print(\"drw=\" + str(drw))\n",
    "    return drw\n",
    "\n",
    "#print(str(generate_drw(LSST,  list(range(1, LSST.observation_period, LSST.cadence)))))"
   ]
  },
  {
   "cell_type": "code",
   "execution_count": 70,
   "metadata": {},
   "outputs": [],
   "source": [
    "import random\n",
    "import numpy as np\n",
    "\n",
    "def generate_light_curve(survey, is_binary):\n",
    "    \n",
    "    # Observations have certain cadence. e.g. expected to be every ~7 days for LSST. Therefore,\n",
    "    baseline = survey.observation_period\n",
    "    t = np.arange(0, baseline, survey.cadence)\n",
    "    # 7 days cadence is not exact, so add Gaussian noise with sigma = 1 day (for LSST) to the observation days\n",
    "    cadence_dev = np.random.normal(survey.cadence, survey.cadence_deviation, len(t))\n",
    "    t = t + cadence_dev\n",
    "\n",
    "    # Generate the damped random walk signal\n",
    "    drw = generate_drw(baseline, t)\n",
    "\n",
    "    # Sum the DRW and sinusoidal signals\n",
    "    if is_binary:\n",
    "        # amplitude of sinusoidal signal\n",
    "        amplitude = random.uniform(0.05, 0.5) \n",
    "        print(\"sinusoidal signal amplitude=\" + str(amplitude))\n",
    "    \n",
    "        # period of binary between 30 days to 10 yrs\n",
    "        period = random.uniform(30, survey.observation_period)\n",
    "        print(\"sinusoidal signal period=\" + str(period))\n",
    "\n",
    "        # Generate sinusoidal signal for binary\n",
    "        phase = np.random.uniform(0, 2 * np.pi)\n",
    "        print(\"Sin Phase=\" + str(phase))\n",
    "\n",
    "        sinusoid = amplitude * np.sin((2 * np.pi * (t - t[0]) / period) + phase)\n",
    "\n",
    "        drw_sine = drw + sinusoid\n",
    "    else:\n",
    "        drw_sine = drw\n",
    "        \n",
    "    # Add gaussian noise to simulate photometric error\n",
    "    errors = np.random.normal(0, survey.photometric_error, len(t))\n",
    "    drw_sine = drw_sine + errors\n",
    "\n",
    "    # wipe off about 6 months signal every year due to simulate gaps in observation\n",
    "    drw_sine_with_gaps = []\n",
    "    t_with_gaps = []\n",
    "    gap_start = random.uniform(1,  365 - survey.gap_period)\n",
    "    gap_end = gap_start + survey.gap_period\n",
    "\n",
    "    for x in range(0, len(t)):\n",
    "        if ((t[x] % 365) < gap_start or (t[x] % 365) >= gap_end):\n",
    "            drw_sine_with_gaps.append(drw_sine[x])\n",
    "            t_with_gaps.append(t[x])\n",
    "    print(\"total num observations=\" + str(len(t_with_gaps)))\n",
    " \n",
    "    # add simulated error bars\n",
    "    signal_error = np.full_like(drw_sine_with_gaps, survey.photometric_error)\n",
    "\n",
    "    return (t_with_gaps, drw_sine_with_gaps, signal_error, t, drw, sinusoid)"
   ]
  },
  {
   "cell_type": "code",
   "execution_count": 71,
   "metadata": {},
   "outputs": [],
   "source": [
    "from dataclasses import dataclass\n",
    "@dataclass(frozen=True)\n",
    "class SurveyParams:\n",
    "    observation_period: float\n",
    "    cadence: float\n",
    "    cadence_deviation: float\n",
    "    photometric_error: float\n",
    "    gap_period: float\n",
    "\n",
    "# Parameters for different surveys, to be confirmed\n",
    "LSST = SurveyParams(observation_period = 10 * 365, cadence = 7, cadence_deviation = 1, photometric_error = 0.01, gap_period = 182)\n",
    "CRTS = SurveyParams(observation_period = 7 * 365, cadence = 20, cadence_deviation = 3, photometric_error = 0.1, gap_period = 200)\n",
    "IMLT = SurveyParams(observation_period = 7 * 365, cadence = 7, cadence_deviation = 3, photometric_error = 0.1, gap_period = 182) \n",
    "AXIS = SurveyParams(observation_period = 7 * 365, cadence = 7, cadence_deviation = 3, photometric_error = 0.1, gap_period = 182)"
   ]
  },
  {
   "cell_type": "code",
   "execution_count": 72,
   "metadata": {
    "scrolled": true
   },
   "outputs": [
    {
     "name": "stdout",
     "output_type": "stream",
     "text": [
      "DRW tau=43300.4910602704\n",
      "DRW sigma=[0.42283787]\n",
      "sinusoidal signal amplitude=0.1965631197888031\n",
      "sinusoidal signal period=1438.6180805960273\n",
      "Sin Phase=4.034473421772682\n",
      "total num observations=260\n"
     ]
    },
    {
     "data": {
      "image/png": "[encoded data removed]",
      "text/plain": [
       "<Figure size 1400x480 with 1 Axes>"
      ]
     },
     "metadata": {},
     "output_type": "display_data"
    }
   ],
   "source": [
    "# Generate lightcurve and plot as a graph\n",
    "import matplotlib.pyplot as plt\n",
    "import math\n",
    "\n",
    "is_binary = True\n",
    "light_curve = generate_light_curve(LSST, is_binary) #  generateFixedSample / generateRandomSample(LSST) \n",
    "plt.figure().set_figwidth(14)\n",
    "plt.errorbar(light_curve[0], light_curve[1], yerr=light_curve[2], fmt='o', ms=2, mfc='red', lw=0.5,capsize=2, mouseover=True)\n",
    "plt.plot(light_curve[3], light_curve[4], alpha=0.2)\n",
    "if is_binary:\n",
    "    plt.plot(light_curve[3], light_curve[5], alpha=0.2)\n",
    "\n",
    "plt.show()"
   ]
  },
  {
   "cell_type": "code",
   "execution_count": 73,
   "metadata": {
    "scrolled": true
   },
   "outputs": [
    {
     "name": "stdout",
     "output_type": "stream",
     "text": [
      "DRW tau=50088.277126184235\n",
      "DRW sigma=[0.47185909]\n",
      "sinusoidal signal amplitude=0.47964818876777077\n",
      "sinusoidal signal period=1559.3892453358364\n",
      "Sin Phase=4.786381463047574\n",
      "total num observations=261\n"
     ]
    }
   ],
   "source": [
    "# Generate light curve and export data as CSV\n",
    "import numpy as np\n",
    "\n",
    "is_binary = True\n",
    "light_curve = generate_light_curve(LSST, is_binary)\n",
    "np.savetxt(\"output/light_curve_\" + str(is_binary) + \".csv\", \n",
    "           np.vstack((light_curve[1], light_curve[2], light_curve[0])).T, \n",
    "           header='Mag, Magerr, MJD', delimiter=\",\", fmt='%.4f')\n"
   ]
  },
  {
   "cell_type": "code",
   "execution_count": null,
   "metadata": {},
   "outputs": [],
   "source": []
  }
 ],
 "metadata": {
  "kernelspec": {
   "display_name": "Python 3 (ipykernel)",
   "language": "python",
   "name": "python3"
  },
  "language_info": {
   "codemirror_mode": {
    "name": "ipython",
    "version": 3
   },
   "file_extension": ".py",
   "mimetype": "text/x-python",
   "name": "python",
   "nbconvert_exporter": "python",
   "pygments_lexer": "ipython3",
   "version": "3.11.7"
  }
 },
 "nbformat": 4,
 "nbformat_minor": 4
}
